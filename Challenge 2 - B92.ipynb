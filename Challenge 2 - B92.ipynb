{
 "cells": [
  {
   "cell_type": "markdown",
   "metadata": {},
   "source": [
    "# Hacking like it's (B)'92!\n",
    "\n",
    "This challenge will introduce the Bennett 92 protocol! \n",
    "\n",
    "## What is B92?\n",
    "\n",
    "Much like BB84, B92 relies on the properties of polarized photons. The essential working parts of the protocol are below:\n",
    "\n",
    "1. Let Alice's bases be horizontal (H, representing 0) and +45 degrees (clockwise, representing 1)\n",
    "1. Let Bob's bases be vertical (V, represented by 1) and -45 degrees (represented by 0)\n",
    "1. Alice and Bob generate a random bit each, and set their polarizations accordingly.\n",
    "1. Alice then sends a photon, polarized by their 'bit'.\n",
    "1. If they do not match, then Bob will not detect anything.\n",
    "1. If they do match then there is a 50% chance that Bob will detect a photon - if so, then Bob tells Alice there was a detection and they both record the relevant bit as part of their shared key.\n",
    "\n",
    "**Detecting Eve**\n",
    "\n",
    "Alice and Bob can do a form of reconciliation where they can take a sample of their bits and see how well they did. \n",
    "\n",
    "If Eve is present, then Eve has to make a guess as to both Bob's measurement polarization and Alice's sending polarization. If Alice makes a detection, then Eve knows Alice's polarization, but there is a 50% chance that Bob will not detect Eve's correctly aligned photon.\n",
    "\n",
    "As such, any errors above a given level would indicate that Eve is present, meaning that Alice and Bob can terminate the key exchange safely.\n",
    "\n",
    "Here's a handy explainer applet you can use to learn more about B92 - [https://www.st-andrews.ac.uk/physics/quvis/simulations_html5/sims/cryptography-b92/B92_photons.html](https://www.st-andrews.ac.uk/physics/quvis/simulations_html5/sims/cryptography-b92/B92_photons.html)"
   ]
  },
  {
   "cell_type": "markdown",
   "metadata": {},
   "source": [
    "## The Challenge\n",
    "\n",
    "Alice and Bob are going to exchange a key with the B92 protocol! However, Alice doesn't know this, but Eve has broken her random number generator that it now generates output from repeating short sequence of bits.\n",
    "\n",
    "With this in mind, all Eve has to do is hack Bob so that they get the bits where Bob made a detection. \n",
    "\n",
    "Here is all the data that Eve has on Bob:\n",
    "\n",
    "Bob's bases: \n",
    "```python\n",
    "sdIsrkWvQFxo7RY/TW3QhVEzMRL6TCaup3fLIhDNIXUnv39EPnwgm2Uk+52SyRjjZesX1MwCsbiotVUl88UxPC2VIWGs3cWHArxnOCEEXZ3oPf+R4lV7+XqtngmAn6KIa4tPkA==\n",
    "```\n",
    "\n",
    "Bob's Detection Indices: \n",
    "```python\n",
    "[1, 2, 4, 10, 11, 12, 15, 16, 20, 22, 26, 36, 43, 48, 52, 59, 63, 64, 67, 74, 75, 77, 81, 82, 86, 95, 96, 102, 113, 114, 117, 118, 123, 125, 126, 130, 131, 132, 133, 136, 141, 143, 146, 150, 153, 156, 157, 158, 159, 161, 165, 173, 174, 175, 183, 188, 195, 196, 197, 203, 204, 210, 211, 213, 216, 219, 223, 229, 231, 233, 234, 235, 241, 243, 252, 259, 263, 265, 269, 275, 278, 280, 282, 283, 286, 289, 290, 293, 303, 309, 331, 334, 338, 344, 346, 354, 371, 377, 379, 381, 383, 384, 387, 392, 398, 400, 414, 415, 416, 423, 424, 426, 427, 429, 438, 443, 445, 453, 454, 458, 466, 467, 472, 475, 479, 482, 488, 492, 501, 504, 506, 509, 522, 527, 529, 530, 531, 534, 541, 547, 548, 550, 558, 560, 562, 564, 576, 580, 584, 585, 587, 606, 609, 612, 613, 618, 619, 629, 635, 641, 643, 646, 649, 653, 654, 656, 669, 670, 676, 679, 683, 684, 689, 695, 698, 702, 707, 709, 716, 718, 719, 721, 730, 733, 741, 742, 745, 753, 757, 762, 770, 776, 777, 778, 781, 785, 786, 788, 793, 796, 798]\n",
    "```\n",
    "\n",
    "The encrypted flag is: `Ls11rzMwfGNtf+Ysm/19fU8kSD4mD9U=`"
   ]
  },
  {
   "cell_type": "code",
   "execution_count": 2,
   "metadata": {},
   "outputs": [],
   "source": [
    "import base64\n",
    "import numpy as np\n",
    "\n",
    "bob_bases = base64.b64decode(\"sdIsrkWvQFxo7RY/TW3QhVEzMRL6TCaup3fLIhDNIXUnv39EPnwgm2Uk+52SyRjjZesX1MwCsbiotVUl88UxPC2VIWGs3cWHArxnOCEEXZ3oPf+R4lV7+XqtngmAn6KIa4tPkA==\")\n",
    "\n",
    "bob_detections = [1, 2, 4, 10, 11, 12, 15, 16, 20, 22, 26, 36, 43, 48, 52, 59, 63, 64, 67, 74, 75, 77, 81, 82, 86, 95, 96, 102, 113, 114, 117, 118, 123, 125, 126, 130, 131, 132, 133, 136, 141, 143, 146, 150, 153, 156, 157, 158, 159, 161, 165, 173, 174, 175, 183, 188, 195, 196, 197, 203, 204, 210, 211, 213, 216, 219, 223, 229, 231, 233, 234, 235, 241, 243, 252, 259, 263, 265, 269, 275, 278, 280, 282, 283, 286, 289, 290, 293, 303, 309, 331, 334, 338, 344, 346, 354, 371, 377, 379, 381, 383, 384, 387, 392, 398, 400, 414, 415, 416, 423, 424, 426, 427, 429, 438, 443, 445, 453, 454, 458, 466, 467, 472, 475, 479, 482, 488, 492, 501, 504, 506, 509, 522, 527, 529, 530, 531, 534, 541, 547, 548, 550, 558, 560, 562, 564, 576, 580, 584, 585, 587, 606, 609, 612, 613, 618, 619, 629, 635, 641, 643, 646, 649, 653, 654, 656, 669, 670, 676, 679, 683, 684, 689, 695, 698, 702, 707, 709, 716, 718, 719, 721, 730, 733, 741, 742, 745, 753, 757, 762, 770, 776, 777, 778, 781, 785, 786, 788, 793, 796, 798]\n",
    "\n",
    "encrypted_flag = base64.b64decode(\"Ls11rzMwfGNtf+Ysm/19fU8kSD4mD9U=\")"
   ]
  },
  {
   "cell_type": "code",
   "execution_count": null,
   "metadata": {},
   "outputs": [],
   "source": []
  }
 ],
 "metadata": {
  "kernelspec": {
   "display_name": "Python 3",
   "language": "python",
   "name": "python3"
  },
  "language_info": {
   "codemirror_mode": {
    "name": "ipython",
    "version": 3
   },
   "file_extension": ".py",
   "mimetype": "text/x-python",
   "name": "python",
   "nbconvert_exporter": "python",
   "pygments_lexer": "ipython3",
   "version": "3.11.5"
  },
  "orig_nbformat": 4
 },
 "nbformat": 4,
 "nbformat_minor": 2
}
