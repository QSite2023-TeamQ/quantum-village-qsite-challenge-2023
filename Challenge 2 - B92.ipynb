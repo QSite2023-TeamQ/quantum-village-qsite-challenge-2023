{
 "cells": [
  {
   "cell_type": "markdown",
   "metadata": {},
   "source": [
    "# Hacking like it's (B)'92!\n",
    "\n",
    "This challenge will introduce the Bennett 92 protocol! \n",
    "\n",
    "## What is B92?\n",
    "\n",
    "Much like BB84, B92 relies on the properties of polarized photons. The essential working parts of the protocol are below:\n",
    "\n",
    "1. Let Alice's bases be horizontal (H, representing 0) and +45 degrees (clockwise, representing 1)\n",
    "1. Let Bob's bases be vertical (V, represented by 1) and -45 degrees (represented by 0)\n",
    "1. Alice and Bob generate a random bit each, and set their polarizations accordingly.\n",
    "1. Alice then sends a photon, polarized by their 'bit'.\n",
    "1. If they do not match, then Bob will not detect anything.\n",
    "1. If they do match then there is a 50% chance that Bob will detect a photon - if so, then Bob tells Alice there was a detection and they both record the relevant bit as part of their shared key.\n",
    "\n",
    "**Detecting Eve**\n",
    "\n",
    "Alice and Bob can do a form of reconciliation where they can take a sample of their bits and see how well they did. \n",
    "\n",
    "If Eve is present, then Eve has to make a guess as to both Bob's measurement polarization and Alice's sending polarization. If Alice makes a detection, then Eve knows Alice's polarization, but there is a 50% chance that Bob will not detect Eve's correctly aligned photon.\n",
    "\n",
    "As such, any errors above a given level would indicate that Eve is present, meaning that Alice and Bob can terminate the key exchange safely.\n",
    "\n",
    "Here's a handy explainer applet you can use to learn more about B92 - [https://www.st-andrews.ac.uk/physics/quvis/simulations_html5/sims/cryptography-b92/B92_photons.html](https://www.st-andrews.ac.uk/physics/quvis/simulations_html5/sims/cryptography-b92/B92_photons.html)"
   ]
  },
  {
   "cell_type": "markdown",
   "metadata": {},
   "source": [
    "## The Challenge\n",
    "\n",
    "Alice and Bob are going to exchange a key with the B92 protocol! However, Alice doesn't know this, but Eve has broken her random number generator that it now generates output from repeating short sequence of bits.\n",
    "\n",
    "With this in mind, all Eve has to do is hack Bob so that they get the bits where Bob made a detection. \n",
    "\n",
    "Here is all the data that Eve has on Bob:\n",
    "\n",
    "Bob's bases: \n",
    "```python\n",
    "sdIsrkWvQFxo7RY/TW3QhVEzMRL6TCaup3fLIhDNIXUnv39EPnwgm2Uk+52SyRjjZesX1MwCsbiotVUl88UxPC2VIWGs3cWHArxnOCEEXZ3oPf+R4lV7+XqtngmAn6KIa4tPkA==\n",
    "```\n",
    "\n",
    "Bob's Detection Indices: \n",
    "```python\n",
    "[1, 2, 4, 10, 11, 12, 15, 16, 20, 22, 26, 36, 43, 48, 52, 59, 63, 64, 67, 74, 75, 77, 81, 82, 86, 95, 96, 102, 113, 114, 117, 118, 123, 125, 126, 130, 131, 132, 133, 136, 141, 143, 146, 150, 153, 156, 157, 158, 159, 161, 165, 173, 174, 175, 183, 188, 195, 196, 197, 203, 204, 210, 211, 213, 216, 219, 223, 229, 231, 233, 234, 235, 241, 243, 252, 259, 263, 265, 269, 275, 278, 280, 282, 283, 286, 289, 290, 293, 303, 309, 331, 334, 338, 344, 346, 354, 371, 377, 379, 381, 383, 384, 387, 392, 398, 400, 414, 415, 416, 423, 424, 426, 427, 429, 438, 443, 445, 453, 454, 458, 466, 467, 472, 475, 479, 482, 488, 492, 501, 504, 506, 509, 522, 527, 529, 530, 531, 534, 541, 547, 548, 550, 558, 560, 562, 564, 576, 580, 584, 585, 587, 606, 609, 612, 613, 618, 619, 629, 635, 641, 643, 646, 649, 653, 654, 656, 669, 670, 676, 679, 683, 684, 689, 695, 698, 702, 707, 709, 716, 718, 719, 721, 730, 733, 741, 742, 745, 753, 757, 762, 770, 776, 777, 778, 781, 785, 786, 788, 793, 796, 798]\n",
    "```\n",
    "\n",
    "The encrypted flag is: `Ls11rzMwfGNtf+Ysm/19fU8kSD4mD9U=`"
   ]
  },
  {
   "cell_type": "code",
   "execution_count": 4,
   "metadata": {},
   "outputs": [],
   "source": [
    "import base64\n",
    "import numpy as np\n",
    "\n",
    "bob_bases = base64.b64decode(\"sdIsrkWvQFxo7RY/TW3QhVEzMRL6TCaup3fLIhDNIXUnv39EPnwgm2Uk+52SyRjjZesX1MwCsbiotVUl88UxPC2VIWGs3cWHArxnOCEEXZ3oPf+R4lV7+XqtngmAn6KIa4tPkA==\")\n",
    "\n",
    "bob_detections = [1, 2, 4, 10, 11, 12, 15, 16, 20, 22, 26, 36, 43, 48, 52, 59, 63, 64, 67, 74, 75, 77, 81, 82, 86, 95, 96, 102, 113, 114, 117, 118, 123, 125, 126, 130, 131, 132, 133, 136, 141, 143, 146, 150, 153, 156, 157, 158, 159, 161, 165, 173, 174, 175, 183, 188, 195, 196, 197, 203, 204, 210, 211, 213, 216, 219, 223, 229, 231, 233, 234, 235, 241, 243, 252, 259, 263, 265, 269, 275, 278, 280, 282, 283, 286, 289, 290, 293, 303, 309, 331, 334, 338, 344, 346, 354, 371, 377, 379, 381, 383, 384, 387, 392, 398, 400, 414, 415, 416, 423, 424, 426, 427, 429, 438, 443, 445, 453, 454, 458, 466, 467, 472, 475, 479, 482, 488, 492, 501, 504, 506, 509, 522, 527, 529, 530, 531, 534, 541, 547, 548, 550, 558, 560, 562, 564, 576, 580, 584, 585, 587, 606, 609, 612, 613, 618, 619, 629, 635, 641, 643, 646, 649, 653, 654, 656, 669, 670, 676, 679, 683, 684, 689, 695, 698, 702, 707, 709, 716, 718, 719, 721, 730, 733, 741, 742, 745, 753, 757, 762, 770, 776, 777, 778, 781, 785, 786, 788, 793, 796, 798]\n",
    "\n",
    "encrypted_flag = base64.b64decode(\"Ls11rzMwfGNtf+Ysm/19fU8kSD4mD9U=\")"
   ]
  },
  {
   "cell_type": "code",
   "execution_count": 6,
   "metadata": {},
   "outputs": [
    {
     "name": "stdout",
     "output_type": "stream",
     "text": [
      "['10110001', '11010010', '00101100', '10101110', '01000101', '10101111', '01000000', '01011100', '01101000', '11101101']\n",
      "[1, 2, 4, 10, 11, 12, 15, 16, 20, 22]\n"
     ]
    }
   ],
   "source": [
    "import base64\n",
    "\n",
    "# Decoding bob_bases from base64\n",
    "bob_bases_raw = base64.b64decode(\"sdIsrkWvQFxo7RY/TW3QhVEzMRL6TCaup3fLIhDNIXUnv39EPnwgm2Uk+52SyRjjZesX1MwCsbiotVUl88UxPC2VIWGs3cWHArxnOCEEXZ3oPf+R4lV7+XqtngmAn6KIa4tPkA==\")\n",
    "bob_bases_bits = [bin(b)[2:].zfill(8) for b in bob_bases_raw]  # Converting each byte to bits\n",
    "\n",
    "# Printing the first 10 bytes of bob_bases_bits to understand the encoding\n",
    "print(bob_bases_bits[:10])\n",
    "\n",
    "# Checking the first 10 indices in bob_detections\n",
    "bob_detections = [1, 2, 4, 10, 11, 12, 15, 16, 20, 22, 26, 36, 43, 48, 52, 59, 63, 64, 67, 74, 75, 77, 81, 82, 86, 95, 96, 102, 113, 114, 117, 118, 123, 125, 126, 130, 131, 132, 133, 136, 141, 143, 146, 150, 153, 156, 157, 158, 159, 161, 165, 173, 174, 175, 183, 188, 195, 196, 197, 203, 204, 210, 211, 213, 216, 219, 223, 229, 231, 233, 234, 235, 241, 243, 252, 259, 263, 265, 269, 275, 278, 280, 282, 283, 286, 289, 290, 293, 303, 309, 331, 334, 338, 344, 346, 354, 371, 377, 379, 381, 383, 384, 387, 392, 398, 400, 414, 415, 416, 423, 424, 426, 427, 429, 438, 443, 445, 453, 454, 458, 466, 467, 472, 475, 479, 482, 488, 492, 501, 504, 506, 509, 522, 527, 529, 530, 531, 534, 541, 547, 548, 550, 558, 560, 562, 564, 576, 580, 584, 585, 587, 606, 609, 612, 613, 618, 619, 629, 635, 641, 643, 646, 649, 653, 654, 656, 669, 670, 676, 679, 683, 684, 689, 695, 698, 702, 707, 709, 716, 718, 719, 721, 730, 733, 741, 742, 745, 753, 757, 762, 770, 776, 777, 778, 781, 785, 786, 788, 793, 796, 798]\n",
    "print(bob_detections[:10])\n"
   ]
  },
  {
   "cell_type": "code",
   "execution_count": 12,
   "metadata": {},
   "outputs": [
    {
     "name": "stdout",
     "output_type": "stream",
     "text": [
      "['V', '-45', 'V', 'V', '-45', '-45', '-45', 'V', 'V', 'V', '-45', 'V', '-45', '-45', 'V', '-45', '-45', '-45', 'V', '-45', 'V', 'V', '-45', '-45', 'V', '-45', 'V', '-45', 'V', 'V', 'V', '-45', '-45', 'V', '-45', '-45', '-45', 'V', '-45', 'V', 'V', '-45', 'V', '-45', 'V', 'V', 'V', 'V', '-45', 'V', '-45', '-45', '-45', '-45', '-45', '-45', '-45', 'V', '-45', 'V', 'V', 'V', '-45', '-45', '-45', 'V', 'V', '-45', 'V', '-45', '-45', '-45', 'V', 'V', 'V', '-45', 'V', 'V', '-45', 'V', '-45', '-45', '-45', 'V', '-45', 'V', 'V', '-45', '-45', '-45', 'V', 'V', 'V', 'V', 'V', 'V', '-45', 'V', '-45', '-45', 'V', 'V', '-45', 'V', '-45', 'V', 'V', '-45', 'V', 'V', '-45', 'V', 'V', 'V', '-45', 'V', '-45', '-45', '-45', '-45', 'V', '-45', '-45', '-45', '-45', 'V', '-45', 'V', '-45', 'V', '-45', 'V', '-45', '-45', '-45', 'V', '-45', '-45', 'V', 'V', '-45', '-45', 'V', 'V', '-45', '-45', 'V', 'V', '-45', '-45', '-45', 'V', '-45', '-45', '-45', 'V', '-45', '-45', 'V', '-45', 'V', 'V', 'V', 'V', 'V', '-45', 'V', '-45', '-45', 'V', '-45', '-45', 'V', 'V', '-45', '-45', '-45', '-45', 'V', '-45', '-45', 'V', 'V', '-45', 'V', '-45', 'V', '-45', 'V', 'V', 'V', '-45', 'V', '-45', 'V', '-45', '-45', 'V', 'V', 'V', '-45', 'V', 'V', 'V', '-45', 'V', 'V', 'V', 'V', 'V', '-45', '-45', 'V', '-45', 'V', 'V', '-45', '-45', 'V', '-45', '-45', '-45', 'V', '-45', '-45', '-45', '-45', 'V', '-45', '-45', '-45', '-45', 'V', 'V', '-45', '-45', 'V', 'V', '-45', 'V', '-45', '-45', 'V', '-45', '-45', '-45', '-45', 'V', '-45', 'V', 'V', 'V', '-45', 'V', '-45', 'V', '-45', '-45', 'V', '-45', '-45', 'V', 'V', 'V', 'V', '-45', 'V', 'V', 'V', 'V', 'V', 'V', '-45', 'V', 'V', 'V', 'V', 'V', 'V', 'V', '-45', 'V', '-45', '-45', '-45', 'V', '-45', '-45', '-45', '-45', 'V', 'V', 'V', 'V', 'V', '-45', '-45', 'V', 'V', 'V', 'V', 'V', '-45', '-45', '-45', '-45', 'V', '-45', '-45', '-45', '-45', '-45', 'V', '-45', '-45', 'V', 'V', '-45', 'V', 'V', '-45', 'V', 'V', '-45', '-45', 'V', '-45', 'V', '-45', '-45', 'V', '-45', '-45', 'V', '-45', '-45', 'V', 'V', 'V', 'V', 'V', '-45', 'V', 'V', 'V', '-45', '-45', 'V', 'V', 'V', '-45', 'V', 'V', '-45', '-45', 'V', '-45', '-45', 'V', '-45', 'V', 'V', '-45', '-45', 'V', '-45', '-45', 'V', '-45', '-45', '-45', 'V', 'V', '-45', '-45', '-45', 'V', 'V', 'V', '-45', '-45', '-45', 'V', 'V', '-45', 'V', 'V', '-45', '-45', 'V', '-45', 'V', 'V', 'V', 'V', '-45', 'V', '-45', 'V', 'V', '-45', '-45', '-45', 'V', '-45', 'V', 'V', 'V', 'V', 'V', '-45', 'V', '-45', 'V', '-45', '-45', 'V', 'V', '-45', '-45', 'V', 'V', '-45', '-45', '-45', '-45', '-45', '-45', '-45', '-45', 'V', '-45', 'V', '-45', 'V', 'V', '-45', '-45', '-45', 'V', 'V', '-45', 'V', 'V', 'V', '-45', '-45', '-45', 'V', '-45', 'V', '-45', 'V', '-45', '-45', '-45', 'V', '-45', 'V', 'V', '-45', 'V', '-45', 'V', '-45', 'V', '-45', 'V', '-45', 'V', '-45', 'V', '-45', '-45', 'V', '-45', '-45', 'V', '-45', 'V', 'V', 'V', 'V', 'V', '-45', '-45', 'V', 'V', 'V', 'V', '-45', '-45', '-45', 'V', '-45', 'V', '-45', '-45', 'V', 'V', '-45', '-45', '-45', 'V', '-45', '-45', 'V', 'V', 'V', 'V', '-45', '-45', '-45', '-45', 'V', '-45', 'V', 'V', '-45', 'V', 'V', '-45', '-45', 'V', '-45', 'V', '-45', 'V', '-45', '-45', 'V', '-45', '-45', '-45', '-45', 'V', '-45', 'V', 'V', '-45', '-45', '-45', '-45', 'V', 'V', '-45', 'V', '-45', 'V', 'V', '-45', '-45', 'V', 'V', '-45', 'V', 'V', 'V', '-45', 'V', 'V', 'V', '-45', '-45', '-45', 'V', '-45', 'V', 'V', '-45', '-45', '-45', '-45', 'V', 'V', 'V', '-45', '-45', '-45', '-45', '-45', '-45', 'V', '-45', 'V', '-45', 'V', 'V', 'V', 'V', '-45', '-45', '-45', 'V', 'V', '-45', '-45', 'V', 'V', 'V', '-45', '-45', 'V', 'V', 'V', '-45', '-45', '-45', '-45', '-45', 'V', '-45', '-45', '-45', '-45', 'V', '-45', '-45', '-45', '-45', '-45', 'V', '-45', '-45', '-45', 'V', '-45', 'V', 'V', 'V', '-45', 'V', 'V', '-45', '-45', 'V', 'V', 'V', '-45', 'V', 'V', 'V', 'V', '-45', 'V', '-45', '-45', '-45', '-45', '-45', 'V', 'V', 'V', 'V', '-45', 'V', 'V', 'V', 'V', 'V', 'V', 'V', 'V', 'V', 'V', '-45', '-45', 'V', '-45', '-45', '-45', 'V', 'V', 'V', 'V', '-45', '-45', '-45', 'V', '-45', '-45', 'V', '-45', 'V', '-45', 'V', '-45', 'V', '-45', 'V', 'V', 'V', 'V', '-45', 'V', 'V', 'V', 'V', 'V', 'V', 'V', '-45', '-45', 'V', '-45', 'V', 'V', 'V', 'V', '-45', 'V', '-45', 'V', '-45', 'V', '-45', 'V', 'V', '-45', 'V', 'V', '-45', '-45', 'V', 'V', 'V', 'V', '-45', '-45', '-45', '-45', '-45', 'V', '-45', '-45', 'V', 'V', '-45', '-45', '-45', '-45', '-45', '-45', '-45', 'V', '-45', '-45', 'V', 'V', 'V', 'V', 'V', 'V', '-45', 'V', '-45', '-45', '-45', 'V', '-45', 'V', '-45', '-45', '-45', 'V', '-45', '-45', '-45', '-45', 'V', 'V', '-45', 'V', '-45', 'V', 'V', 'V', '-45', '-45', '-45', 'V', '-45', 'V', 'V', '-45', 'V', '-45', '-45', 'V', 'V', 'V', 'V', 'V', '-45', '-45', 'V', '-45', '-45', '-45', '-45']\n"
     ]
    }
   ],
   "source": [
    "# Mapping binary bits to Bob's bases\n",
    "bob_bases = ['V' if bit == '1' else '-45' for byte in bob_bases_bits for bit in byte]\n",
    "print(bob_bases)"
   ]
  },
  {
   "cell_type": "code",
   "execution_count": 13,
   "metadata": {},
   "outputs": [
    {
     "name": "stdout",
     "output_type": "stream",
     "text": [
      "010010001010000100010100110010000100100001100001010100010011000000000100000010111000001100001100110010011000100000010001010011100011010100001001000010100000011100010100001011101010100000000011000101000\n"
     ]
    }
   ],
   "source": [
    "# Extracting shared key bits from Bob's bases using bob_detections indices\n",
    "shared_key_bits = [bob_bases[i] for i in bob_detections]\n",
    "# Converting bases to bits (assuming 'V' maps to '1' and '-45' maps to '0')\n",
    "shared_key = ''.join(['1' if base == 'V' else '0' for base in shared_key_bits])\n",
    "print(shared_key)"
   ]
  },
  {
   "cell_type": "code",
   "execution_count": 17,
   "metadata": {},
   "outputs": [
    {
     "name": "stdout",
     "output_type": "stream",
     "text": [
      "b'flag{Q-Site Rul3z-B92!}'\n"
     ]
    }
   ],
   "source": [
    "# Length of the encrypted flag in bits\n",
    "encrypted_flag_length_bits = len(encrypted_flag) * 8\n",
    "\n",
    "# Number of times the shared_key needs to be repeated to at least match the length of the encrypted_flag\n",
    "repetition_factor = (encrypted_flag_length_bits + len(shared_key) - 1) // len(shared_key)\n",
    "\n",
    "# Repeating the shared_key to match the length of the encrypted flag\n",
    "repeated_key = (shared_key * repetition_factor)[:encrypted_flag_length_bits]\n",
    "\n",
    "# Converting binary string to bytes\n",
    "repeated_key_bytes = bytes(int(repeated_key[i:i+8], 2) for i in range(0, len(repeated_key), 8))\n",
    "\n",
    "# XORing the encrypted flag with the repeated key\n",
    "decrypted_flag = bytes([a ^ b for a, b in zip(encrypted_flag, repeated_key_bytes)])\n",
    "\n",
    "# Printing the decrypted flag\n",
    "print(decrypted_flag)"
   ]
  }
 ],
 "metadata": {
  "kernelspec": {
   "display_name": "Python 3 (ipykernel)",
   "language": "python",
   "name": "python3"
  },
  "language_info": {
   "codemirror_mode": {
    "name": "ipython",
    "version": 3
   },
   "file_extension": ".py",
   "mimetype": "text/x-python",
   "name": "python",
   "nbconvert_exporter": "python",
   "pygments_lexer": "ipython3",
   "version": "3.10.13"
  }
 },
 "nbformat": 4,
 "nbformat_minor": 2
}
